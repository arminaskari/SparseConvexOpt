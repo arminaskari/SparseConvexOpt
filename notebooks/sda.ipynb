{
 "cells": [
  {
   "cell_type": "code",
   "execution_count": 6,
   "metadata": {},
   "outputs": [
    {
     "name": "stdout",
     "output_type": "stream",
     "text": [
      "The autoreload extension is already loaded. To reload it, use:\n",
      "  %reload_ext autoreload\n"
     ]
    }
   ],
   "source": [
    "%load_ext autoreload\n",
    "%autoreload 2\n",
    "\n",
    "import numpy as np\n",
    "import cvxpy as cp\n",
    "import scipy\n",
    "from sklearn.linear_model import LassoLars\n",
    "from helper import *\n",
    "import matplotlib.pyplot as plt"
   ]
  },
  {
   "cell_type": "code",
   "execution_count": 65,
   "metadata": {},
   "outputs": [
    {
     "name": "stdout",
     "output_type": "stream",
     "text": [
      "21.033714671090152\n"
     ]
    }
   ],
   "source": [
    "m = 10\n",
    "D = 1 * np.diag(1*np.random.rand(m)) # np.eye(m)\n",
    "print(np.max(D)/np.min(np.diag(D)))\n",
    "Dhalf = np.sqrt(D)\n",
    "rank = 1\n",
    "L = 2 * np.random.randn(m,rank)\n",
    "X = scipy.linalg.sqrtm(D + L @ L.T)\n",
    "y = 10*np.random.randn(m) - 3\n",
    "p = X.T @ y"
   ]
  },
  {
   "cell_type": "code",
   "execution_count": 66,
   "metadata": {},
   "outputs": [],
   "source": [
    "## l0 brute force\n",
    "\n",
    "if m <= 15:\n",
    "    l0_costs, l0_supp = [], []\n",
    "    l0_sols = []\n",
    "    M_list = []\n",
    "    for k in range(1,m+1):\n",
    "        supp, cost = l0_bruteforce(D + L @ L.T, p, k)\n",
    "        l0_costs.append(cost)\n",
    "        l0_supp.append(np.where(np.array(supp) == 1)[0])\n",
    "        \n",
    "        #solution\n",
    "        idx = np.where(np.array(supp) == 1)[0]\n",
    "        Xtilde = X[:, idx]\n",
    "        sol = np.linalg.inv(Xtilde.T @ Xtilde) @ Xtilde.T @ y\n",
    "        l0_sols.append(sol)\n",
    "        M_list.append(np.max(np.abs(sol)))"
   ]
  },
  {
   "cell_type": "code",
   "execution_count": 67,
   "metadata": {},
   "outputs": [
    {
     "name": "stdout",
     "output_type": "stream",
     "text": [
      "[-19.14082839  47.2820129   66.89453939 -28.43482328]\n",
      "[4 7 8 9]\n"
     ]
    }
   ],
   "source": [
    "print(l0_sols[3])\n",
    "print(l0_supp[3])"
   ]
  },
  {
   "cell_type": "code",
   "execution_count": 90,
   "metadata": {},
   "outputs": [
    {
     "name": "stdout",
     "output_type": "stream",
     "text": [
      "[  0.         -15.85429388   0.           0.           0.\n",
      "   0.           0.          15.71774828  16.58586484 -22.31244328]\n"
     ]
    }
   ],
   "source": [
    "# simple dual ascent\n",
    "niter = 10000\n",
    "G = lambda w: X.T @ (X @ w - y)\n",
    "xk, sk = np.zeros(m), np.zeros(m)\n",
    "sum_x = np.zeros(m)\n",
    "gk = G(xk)\n",
    "v = np.zeros(m)\n",
    "Sk = 0\n",
    "lk = 0.1\n",
    "gamma = 1\n",
    "beta_list = [1]\n",
    "\n",
    "for k in range(niter):\n",
    "        \n",
    "    # take gradient\n",
    "    gk = G(xk)\n",
    "    \n",
    "    # update dual variable and running step size\n",
    "    sk = sk + lk * gk\n",
    "    Sk += lk\n",
    "    \n",
    "    # do projection onto l0 with l2-prox\n",
    "    beta = beta_list[k] \n",
    "    v = -1/2 * (sk ** 2)/(gamma * beta)\n",
    "    idx = np.argpartition(v, 4) #4 is sparsity level\n",
    "    xk = np.zeros(m)\n",
    "    xk[idx[:4]] = -sk[idx[:4]]/(gamma * beta)\n",
    "    \n",
    "    sum_x += lk * xk\n",
    "    \n",
    "#     if k % 1000 == 0:\n",
    "#         print(f'Iter: {k}')\n",
    "#         print(gk)\n",
    "#         print(sk)\n",
    "#         print(v)\n",
    "#         print(xk)\n",
    "#         print('----------------------------')\n",
    "\n",
    "    \n",
    "    # update beta\n",
    "    beta_list.append(beta + 1/beta)\n",
    "\n",
    "print(xk)\n"
   ]
  },
  {
   "cell_type": "code",
   "execution_count": 88,
   "metadata": {},
   "outputs": [],
   "source": [
    "## dual solve\n",
    "\n",
    "dual_costs, dual_supp = [], []\n",
    "primal_feas_cost = []\n",
    "for k in range(1,m+1):\n",
    "    t, cost = cvx_dual(D, L, p, k)\n",
    "    dual_idx = t.argsort()[-k:][::-1]\n",
    "    dual_idx.sort()\n",
    "    QQ = (D + L@ L.T)[dual_idx,:][:,dual_idx]\n",
    "    pp = p[dual_idx]\n",
    "    pf_cost = -1/2 * pp.T @ np.linalg.inv(QQ) @ pp\n",
    "    dual_supp.append(dual_idx)\n",
    "    dual_costs.append(-cost)\n",
    "    primal_feas_cost.append(pf_cost)"
   ]
  },
  {
   "cell_type": "code",
   "execution_count": 91,
   "metadata": {},
   "outputs": [
    {
     "name": "stdout",
     "output_type": "stream",
     "text": [
      "[-19.14082839  47.2820129   66.89453939 -28.43482328]\n",
      "[4 7 8 9]\n"
     ]
    }
   ],
   "source": [
    "print(l0_sols[3])\n",
    "print(l0_supp[3])"
   ]
  },
  {
   "cell_type": "code",
   "execution_count": 17,
   "metadata": {},
   "outputs": [
    {
     "data": {
      "text/plain": [
       "array([ 0.,  0.,  0.,  0., -0.,  0., -0., -0., -0.,  0.])"
      ]
     },
     "execution_count": 17,
     "metadata": {},
     "output_type": "execute_result"
    }
   ],
   "source": [
    "xk"
   ]
  },
  {
   "cell_type": "code",
   "execution_count": 2,
   "metadata": {},
   "outputs": [],
   "source": [
    "a = [1,2,5,1,4,40,500]"
   ]
  },
  {
   "cell_type": "code",
   "execution_count": 3,
   "metadata": {},
   "outputs": [
    {
     "data": {
      "text/plain": [
       "[1, 2, 5, 1, 4, 40, 500]"
      ]
     },
     "execution_count": 3,
     "metadata": {},
     "output_type": "execute_result"
    }
   ],
   "source": [
    "a"
   ]
  },
  {
   "cell_type": "code",
   "execution_count": 6,
   "metadata": {},
   "outputs": [
    {
     "data": {
      "text/plain": [
       "[1, 1, 2]"
      ]
     },
     "execution_count": 6,
     "metadata": {},
     "output_type": "execute_result"
    }
   ],
   "source": [
    "sorted(a)[:3]"
   ]
  },
  {
   "cell_type": "code",
   "execution_count": null,
   "metadata": {},
   "outputs": [],
   "source": []
  }
 ],
 "metadata": {
  "kernelspec": {
   "display_name": "Python 3",
   "language": "python",
   "name": "python3"
  },
  "language_info": {
   "codemirror_mode": {
    "name": "ipython",
    "version": 3
   },
   "file_extension": ".py",
   "mimetype": "text/x-python",
   "name": "python",
   "nbconvert_exporter": "python",
   "pygments_lexer": "ipython3",
   "version": "3.6.10"
  }
 },
 "nbformat": 4,
 "nbformat_minor": 4
}
