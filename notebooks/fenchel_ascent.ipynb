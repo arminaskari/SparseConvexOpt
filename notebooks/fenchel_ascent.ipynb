{
 "cells": [
  {
   "cell_type": "code",
   "execution_count": 5,
   "metadata": {},
   "outputs": [
    {
     "name": "stdout",
     "output_type": "stream",
     "text": [
      "The autoreload extension is already loaded. To reload it, use:\n",
      "  %reload_ext autoreload\n"
     ]
    }
   ],
   "source": [
    "%load_ext autoreload\n",
    "%autoreload 2\n",
    "\n",
    "import numpy as np\n",
    "import cvxpy as cp\n",
    "import scipy\n",
    "from sklearn.linear_model import LassoLars\n",
    "from SparseOpt.helper import *\n",
    "import matplotlib.pyplot as plt"
   ]
  },
  {
   "cell_type": "code",
   "execution_count": 6,
   "metadata": {},
   "outputs": [
    {
     "name": "stdout",
     "output_type": "stream",
     "text": [
      "11.850668684604505\n"
     ]
    }
   ],
   "source": [
    "m = 15\n",
    "D = 1 * np.diag(1*np.random.rand(m)) # np.eye(m)\n",
    "print(np.max(D)/np.min(np.diag(D)))\n",
    "Dhalf = np.sqrt(D)\n",
    "rank = 5\n",
    "L = 5 * np.random.randn(m,rank)\n",
    "X = scipy.linalg.sqrtm(D + L @ L.T)\n",
    "y = 10*np.random.randn(m) - 3\n",
    "p = X.T @ y"
   ]
  },
  {
   "cell_type": "code",
   "execution_count": 7,
   "metadata": {},
   "outputs": [
    {
     "ename": "NameError",
     "evalue": "name 'l0_bruteforce' is not defined",
     "output_type": "error",
     "traceback": [
      "\u001b[0;31m---------------------------------------------------------------------------\u001b[0m",
      "\u001b[0;31mNameError\u001b[0m                                 Traceback (most recent call last)",
      "\u001b[0;32m<ipython-input-7-4e4a071f1b4b>\u001b[0m in \u001b[0;36m<module>\u001b[0;34m\u001b[0m\n\u001b[1;32m      4\u001b[0m     \u001b[0mM_list\u001b[0m \u001b[0;34m=\u001b[0m \u001b[0;34m[\u001b[0m\u001b[0;34m]\u001b[0m\u001b[0;34m\u001b[0m\u001b[0;34m\u001b[0m\u001b[0m\n\u001b[1;32m      5\u001b[0m     \u001b[0;32mfor\u001b[0m \u001b[0mk\u001b[0m \u001b[0;32min\u001b[0m \u001b[0mrange\u001b[0m\u001b[0;34m(\u001b[0m\u001b[0;36m1\u001b[0m\u001b[0;34m,\u001b[0m\u001b[0mm\u001b[0m\u001b[0;34m+\u001b[0m\u001b[0;36m1\u001b[0m\u001b[0;34m)\u001b[0m\u001b[0;34m:\u001b[0m\u001b[0;34m\u001b[0m\u001b[0;34m\u001b[0m\u001b[0m\n\u001b[0;32m----> 6\u001b[0;31m         \u001b[0msupp\u001b[0m\u001b[0;34m,\u001b[0m \u001b[0mcost\u001b[0m \u001b[0;34m=\u001b[0m \u001b[0ml0_bruteforce\u001b[0m\u001b[0;34m(\u001b[0m\u001b[0mD\u001b[0m \u001b[0;34m+\u001b[0m \u001b[0mL\u001b[0m \u001b[0;34m@\u001b[0m \u001b[0mL\u001b[0m\u001b[0;34m.\u001b[0m\u001b[0mT\u001b[0m \u001b[0;34m+\u001b[0m \u001b[0;36m1\u001b[0m \u001b[0;34m*\u001b[0m \u001b[0mnp\u001b[0m\u001b[0;34m.\u001b[0m\u001b[0meye\u001b[0m\u001b[0;34m(\u001b[0m\u001b[0mm\u001b[0m\u001b[0;34m)\u001b[0m\u001b[0;34m,\u001b[0m \u001b[0mp\u001b[0m\u001b[0;34m,\u001b[0m \u001b[0mk\u001b[0m\u001b[0;34m)\u001b[0m\u001b[0;34m\u001b[0m\u001b[0;34m\u001b[0m\u001b[0m\n\u001b[0m\u001b[1;32m      7\u001b[0m         \u001b[0ml0_costs\u001b[0m\u001b[0;34m.\u001b[0m\u001b[0mappend\u001b[0m\u001b[0;34m(\u001b[0m\u001b[0mcost\u001b[0m\u001b[0;34m)\u001b[0m\u001b[0;34m\u001b[0m\u001b[0;34m\u001b[0m\u001b[0m\n\u001b[1;32m      8\u001b[0m         \u001b[0ml0_supp\u001b[0m\u001b[0;34m.\u001b[0m\u001b[0mappend\u001b[0m\u001b[0;34m(\u001b[0m\u001b[0mnp\u001b[0m\u001b[0;34m.\u001b[0m\u001b[0mwhere\u001b[0m\u001b[0;34m(\u001b[0m\u001b[0mnp\u001b[0m\u001b[0;34m.\u001b[0m\u001b[0marray\u001b[0m\u001b[0;34m(\u001b[0m\u001b[0msupp\u001b[0m\u001b[0;34m)\u001b[0m \u001b[0;34m==\u001b[0m \u001b[0;36m1\u001b[0m\u001b[0;34m)\u001b[0m\u001b[0;34m[\u001b[0m\u001b[0;36m0\u001b[0m\u001b[0;34m]\u001b[0m\u001b[0;34m)\u001b[0m\u001b[0;34m\u001b[0m\u001b[0;34m\u001b[0m\u001b[0m\n",
      "\u001b[0;31mNameError\u001b[0m: name 'l0_bruteforce' is not defined"
     ]
    }
   ],
   "source": [
    "if m <= 15:\n",
    "    l0_costs, l0_supp = [], []\n",
    "    l0_sols = []\n",
    "    M_list = []\n",
    "    for k in range(1,m+1):\n",
    "        supp, cost = l0_bruteforce(D + L @ L.T + 1 * np.eye(m), p, k)\n",
    "        l0_costs.append(cost)\n",
    "        l0_supp.append(np.where(np.array(supp) == 1)[0])\n",
    "        \n",
    "        #solution\n",
    "        idx = np.where(np.array(supp) == 1)[0]\n",
    "        Xtilde = X[:, idx]\n",
    "        sol = np.linalg.inv(Xtilde.T @ Xtilde) @ Xtilde.T @ y\n",
    "        l0_sols.append(sol)\n",
    "        M_list.append(np.max(np.abs(sol)))"
   ]
  },
  {
   "cell_type": "code",
   "execution_count": 26,
   "metadata": {},
   "outputs": [
    {
     "name": "stdout",
     "output_type": "stream",
     "text": [
      "[-1.75561916  0.4361077   3.70747508 -6.95287895]\n",
      "[0 1 4 6]\n",
      "-189.73831412319964\n"
     ]
    }
   ],
   "source": [
    "print(l0_sols[3])\n",
    "print(l0_supp[3])\n",
    "print(l0_costs[3])"
   ]
  },
  {
   "cell_type": "code",
   "execution_count": 27,
   "metadata": {},
   "outputs": [
    {
     "name": "stdout",
     "output_type": "stream",
     "text": [
      "1.0000000725663898\n",
      "2.000000211655431\n",
      "3.0000000010838757\n",
      "4.000000003324583\n",
      "5.000000008932123\n",
      "6.000000000532822\n",
      "6.999999904163125\n",
      "7.999999837402473\n",
      "8.999999790124718\n",
      "9.999995212560806\n",
      "[-0.16150198 -0.98076845  2.88573359  2.68107097  2.33671807 -1.38622215\n",
      " -5.00251931 -0.13685122 -2.02600958 -0.9411167 ]\n",
      "[0.99999952 0.99999996 1.         1.         1.         0.99999999\n",
      " 1.00000001 0.99999577 1.         0.99999996]\n",
      "-211.45434227243172\n"
     ]
    }
   ],
   "source": [
    "x = np.ones(m)\n",
    "f_costs= []\n",
    "for k in range(1, m+1):\n",
    "    costs = []\n",
    "\n",
    "    for i in range(20):\n",
    "\n",
    "        #minimize u\n",
    "        u = cp.Variable(m)\n",
    "        cost = 0\n",
    "        for j in range(m):\n",
    "            cost += cp.quad_over_lin(x[j], u[j])\n",
    "        constr = [u <= 1, cp.sum(u) <= k]\n",
    "\n",
    "        prob = cp.Problem(cp.Minimize(cost), constr)\n",
    "        prob.solve()\n",
    "        Du = np.diag(u.value)\n",
    "\n",
    "        costs.append(1/2 * np.linalg.norm(X @ x - y) ** 2 + 1/2 * x.T @ np.linalg.inv(Du) @ x - 1/2 * y.T @ y)\n",
    "\n",
    "        #minimize x\n",
    "        x = np.linalg.inv(X.T @ X + 1 * np.linalg.inv(Du)) @ X.T @ y\n",
    "    \n",
    "    f_costs.append(costs[-1])\n",
    "    print(sum(u.value))\n",
    "    \n",
    "    \n",
    "\n",
    "print(x)\n",
    "print(u.value)\n",
    "print(1/2 * np.linalg.norm(X @ x - y) ** 2 + 1/2 * x.T @ np.linalg.inv(Du) @ x - 1/2 * y.T @ y)"
   ]
  },
  {
   "cell_type": "code",
   "execution_count": 28,
   "metadata": {},
   "outputs": [
    {
     "name": "stdout",
     "output_type": "stream",
     "text": [
      "9.999995212560806\n"
     ]
    }
   ],
   "source": [
    "print(sum(u.value))"
   ]
  },
  {
   "cell_type": "code",
   "execution_count": 29,
   "metadata": {},
   "outputs": [
    {
     "name": "stdout",
     "output_type": "stream",
     "text": [
      "[-126.3464205671601, -153.34669903231887, -183.7465924649307, -189.73831412319964, -197.3786910276514, -202.9775314743337, -207.6716657989649, -211.31440556006777, -211.42761026255474, -211.45434228670288]\n",
      "[-171.48824396476195, -185.95773410339996, -194.60391834358566, -199.8228183033149, -204.67196251931315, -208.13177021628087, -210.37801373222294, -211.32084525098057, -211.4366424854733, -211.45434227243172]\n"
     ]
    }
   ],
   "source": [
    "print(l0_costs)\n",
    "print(f_costs)"
   ]
  },
  {
   "cell_type": "code",
   "execution_count": 30,
   "metadata": {},
   "outputs": [
    {
     "data": {
      "image/png": "[encoded data removed]",
      "text/plain": [
       "<Figure size 432x288 with 1 Axes>"
      ]
     },
     "metadata": {
      "needs_background": "light"
     },
     "output_type": "display_data"
    }
   ],
   "source": [
    "plt.figure()\n",
    "plt.plot(l0_costs)\n",
    "plt.plot(f_costs)\n",
    "plt.legend(['brute force', 'bidual'])\n",
    "plt.show()"
   ]
  },
  {
   "cell_type": "code",
   "execution_count": 10,
   "metadata": {},
   "outputs": [
    {
     "data": {
      "text/plain": [
       "array([0.08629999, 0.17943918, 0.42351284, 1.00000019, 0.10198676,\n",
       "       0.07748528, 1.00000004, 0.00343833, 0.12783697, 1.00000026])"
      ]
     },
     "execution_count": 10,
     "metadata": {},
     "output_type": "execute_result"
    }
   ],
   "source": [
    "u.value"
   ]
  },
  {
   "cell_type": "code",
   "execution_count": 31,
   "metadata": {},
   "outputs": [],
   "source": [
    "# more interesting to see how lasso compares in terms of solution quality and in terms of empirical performance on ML tasks"
   ]
  },
  {
   "cell_type": "code",
   "execution_count": null,
   "metadata": {},
   "outputs": [],
   "source": []
  }
 ],
 "metadata": {
  "kernelspec": {
   "display_name": "Python 3",
   "language": "python",
   "name": "python3"
  },
  "language_info": {
   "codemirror_mode": {
    "name": "ipython",
    "version": 3
   },
   "file_extension": ".py",
   "mimetype": "text/x-python",
   "name": "python",
   "nbconvert_exporter": "python",
   "pygments_lexer": "ipython3",
   "version": "3.6.10"
  }
 },
 "nbformat": 4,
 "nbformat_minor": 4
}
