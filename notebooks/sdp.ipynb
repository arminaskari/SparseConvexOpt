{
 "cells": [
  {
   "cell_type": "code",
   "execution_count": 26,
   "metadata": {},
   "outputs": [
    {
     "name": "stdout",
     "output_type": "stream",
     "text": [
      "The autoreload extension is already loaded. To reload it, use:\n",
      "  %reload_ext autoreload\n"
     ]
    }
   ],
   "source": [
    "%load_ext autoreload\n",
    "%autoreload 2\n",
    "\n",
    "import numpy as np\n",
    "import cvxpy as cp\n",
    "import scipy\n",
    "from sklearn.linear_model import LassoLars\n",
    "from helper import *\n",
    "import matplotlib.pyplot as plt\n"
   ]
  },
  {
   "cell_type": "code",
   "execution_count": 114,
   "metadata": {},
   "outputs": [
    {
     "name": "stdout",
     "output_type": "stream",
     "text": [
      "10.609218478767726\n"
     ]
    }
   ],
   "source": [
    "m = 10\n",
    "D = 1 * np.diag(1*np.random.rand(m)) # np.eye(m)\n",
    "print(np.max(D)/np.min(np.diag(D)))\n",
    "Dhalf = np.sqrt(D)\n",
    "rank = 1\n",
    "L = 1 * np.random.randn(m,rank)\n",
    "X = scipy.linalg.sqrtm(D + L @ L.T)\n",
    "y = 10*np.random.randn(m) - 3\n",
    "p = X.T @ y"
   ]
  },
  {
   "cell_type": "code",
   "execution_count": 115,
   "metadata": {},
   "outputs": [
    {
     "data": {
      "image/png": "[encoded data removed]",
      "text/plain": [
       "<Figure size 432x288 with 1 Axes>"
      ]
     },
     "metadata": {
      "needs_background": "light"
     },
     "output_type": "display_data"
    }
   ],
   "source": [
    "d, U, costs = factor_decomp(X.T @ X, rank = 3)\n",
    "plt.figure()\n",
    "plt.plot(costs)\n",
    "plt.show()"
   ]
  },
  {
   "cell_type": "code",
   "execution_count": 116,
   "metadata": {},
   "outputs": [],
   "source": [
    "## l0 brute force\n",
    "\n",
    "if m <= 15:\n",
    "    l0_costs, l0_supp = [], []\n",
    "    M_list = []\n",
    "    for k in range(1,m+1):\n",
    "        supp, cost = l0_bruteforce(D + L @ L.T, p, k)\n",
    "        l0_costs.append(cost)\n",
    "        l0_supp.append(np.where(np.array(supp) == 1)[0])\n",
    "        \n",
    "        #solution\n",
    "        idx = np.where(np.array(supp) == 1)[0]\n",
    "        Xtilde = X[:, idx]\n",
    "        sol = np.linalg.inv(Xtilde.T @ Xtilde) @ Xtilde.T @ y\n",
    "        M_list.append(np.max(np.abs(sol)))"
   ]
  },
  {
   "cell_type": "code",
   "execution_count": 117,
   "metadata": {},
   "outputs": [],
   "source": [
    "## dual solve\n",
    "\n",
    "dual_costs, dual_supp = [], []\n",
    "primal_feas_cost = []\n",
    "for k in range(1,m+1):\n",
    "    t, cost = cvx_dual(D, L, p, k)\n",
    "    dual_idx = t.argsort()[-k:][::-1]\n",
    "    dual_idx.sort()\n",
    "    QQ = (D + L@ L.T)[dual_idx,:][:,dual_idx]\n",
    "    pp = p[dual_idx]\n",
    "    pf_cost = -1/2 * pp.T @ np.linalg.inv(QQ) @ pp\n",
    "    dual_supp.append(dual_idx)\n",
    "    dual_costs.append(-cost)\n",
    "    primal_feas_cost.append(pf_cost)"
   ]
  },
  {
   "cell_type": "code",
   "execution_count": 118,
   "metadata": {},
   "outputs": [],
   "source": [
    "## lasso solve\n",
    "L1 = LassoLars(alpha=1e-3,fit_intercept=False, normalize=False)\n",
    "L1.fit(X,y)\n",
    "l1_supp, l1_sparsity = [], []\n",
    "for c in L1.coef_path_.T:\n",
    "    supp = np.where(c != 0)[0]\n",
    "    l1_supp.append(supp)\n",
    "    l1_sparsity.append(len(supp))\n",
    "indexes = [l1_sparsity.index(x) for x in set(l1_sparsity)]\n",
    "l1_sparsity = np.array(l1_sparsity)[np.array(indexes)[1:]]\n",
    "l1_supp = [j for i, j in enumerate(l1_supp) if i in indexes][1:]\n",
    "lasso_costs = []\n",
    "for l1_idx in l1_supp:\n",
    "    QQ = (D + L @ L.T)[l1_idx,:][:,l1_idx]\n",
    "    pp = p[l1_idx]\n",
    "    cost = -1/2 * pp.T @ np.linalg.inv(QQ) @ pp\n",
    "    lasso_costs.append(cost)"
   ]
  },
  {
   "cell_type": "code",
   "execution_count": 119,
   "metadata": {},
   "outputs": [
    {
     "data": {
      "text/plain": [
       "[array([9]),\n",
       " array([8, 9]),\n",
       " array([0, 7, 9]),\n",
       " array([0, 7, 8, 9]),\n",
       " array([0, 1, 4, 7, 9]),\n",
       " array([0, 1, 4, 7, 8, 9]),\n",
       " array([0, 1, 4, 5, 7, 8, 9]),\n",
       " array([0, 1, 2, 4, 5, 7, 8, 9]),\n",
       " array([0, 1, 2, 4, 5, 6, 7, 8, 9]),\n",
       " array([0, 1, 2, 3, 4, 5, 6, 7, 8, 9])]"
      ]
     },
     "execution_count": 119,
     "metadata": {},
     "output_type": "execute_result"
    }
   ],
   "source": [
    "l0_supp"
   ]
  },
  {
   "cell_type": "code",
   "execution_count": 122,
   "metadata": {},
   "outputs": [
    {
     "data": {
      "text/plain": [
       "[-89.87177068701311,\n",
       " -101.76743792573474,\n",
       " -128.60593032039566,\n",
       " -144.04286127379893,\n",
       " -162.36254377676536,\n",
       " -176.80712468462042,\n",
       " -187.69564802900902,\n",
       " -188.72622242006517,\n",
       " -189.57327988858736,\n",
       " -190.0090501009967]"
      ]
     },
     "execution_count": 122,
     "metadata": {},
     "output_type": "execute_result"
    }
   ],
   "source": [
    "l0_costs"
   ]
  },
  {
   "cell_type": "code",
   "execution_count": 128,
   "metadata": {},
   "outputs": [
    {
     "data": {
      "text/plain": [
       "[0.0, 7.720505162760716, 0.0, 4.692658091255879, 0.0, 0.0, 0.0, 0.0, 0.0, 0.0]"
      ]
     },
     "execution_count": 128,
     "metadata": {},
     "output_type": "execute_result"
    }
   ],
   "source": [
    "[b-a for a,b in zip(l0_costs,primal_feas_cost)]"
   ]
  },
  {
   "cell_type": "code",
   "execution_count": 129,
   "metadata": {},
   "outputs": [
    {
     "data": {
      "image/png": "[encoded data removed]",
      "text/plain": [
       "<Figure size 504x504 with 1 Axes>"
      ]
     },
     "metadata": {
      "needs_background": "light"
     },
     "output_type": "display_data"
    }
   ],
   "source": [
    "r = rank\n",
    "plt.figure(figsize=(7,7))\n",
    "plt.step(range(1,m+1), dual_costs, 'k-')\n",
    "plt.step(range(1,m+1), l0_costs, 'r-')\n",
    "plt.step(range(1,m+1), primal_feas_cost,'g-')\n",
    "plt.step(l1_sparsity, lasso_costs,'m-')\n",
    "#plt.step(range(r,m), dual_costs[:m-r], 'k--')\n",
    "legend = [r'$\\phi(k)$: dual lower bound',\n",
    "          r'$\\psi(k): \\ell_0$ brute force',\n",
    "          r'$\\tilde{\\psi}(k)$: dual primalized',\n",
    "          r'$\\ell_1$-reg: primalized',\n",
    "          r'$\\phi(k-\\lfloor M(r+1) \\rfloor)$']\n",
    "plt.legend(legend, fontsize=15)\n",
    "plt.ylabel('Function Value')\n",
    "plt.xlabel('Sparsity level (k)')\n",
    "plt.savefig(f'{m}_{rank}.pdf')"
   ]
  },
  {
   "cell_type": "code",
   "execution_count": 107,
   "metadata": {},
   "outputs": [
    {
     "data": {
      "text/plain": [
       "array([ 1,  2,  3,  4,  5,  6,  7,  8,  9, 10])"
      ]
     },
     "execution_count": 107,
     "metadata": {},
     "output_type": "execute_result"
    }
   ],
   "source": [
    "l1_sparsity"
   ]
  },
  {
   "cell_type": "code",
   "execution_count": 110,
   "metadata": {},
   "outputs": [
    {
     "name": "stdout",
     "output_type": "stream",
     "text": [
      "[1, 2, 3, 4, 5, 6, 7, 8, 9, 10]\n"
     ]
    }
   ],
   "source": [
    "print([i for i in range(1,m+1)])"
   ]
  },
  {
   "cell_type": "code",
   "execution_count": 1044,
   "metadata": {},
   "outputs": [
    {
     "name": "stdout",
     "output_type": "stream",
     "text": [
      "-133.5517058565237\n",
      "-331.10655756664096\n",
      "-395.44380583957184\n",
      "-439.3089467409672\n",
      "-449.530878122849\n",
      "-480.7391483006716\n",
      "-497.64647182965166\n",
      "-501.8709171915137\n",
      "-505.3385249206445\n",
      "-509.0601999589489\n"
     ]
    }
   ],
   "source": [
    "sdp_costs, sdp_supp = [], []\n",
    "for k in range(1,m+1):\n",
    "    x, c = cvx_sdp(D, L, p, k, verbose=False, solver=cp.SCS)\n",
    "    sdp_costs.append(c)\n",
    "    sdp_idx = x.argsort()[-k:][::-1]\n",
    "    sdp_idx.sort()\n",
    "    QQ = (D + L@ L.T)[sdp_idx,:][:,sdp_idx]\n",
    "    pp = p[sdp_idx]\n",
    "    sdp_cost = -1/2 * pp.T @ np.linalg.inv(QQ) @ pp\n",
    "    print(sdp_cost)\n",
    "    sdp_supp.append(sdp_idx)"
   ]
  },
  {
   "cell_type": "code",
   "execution_count": 1045,
   "metadata": {},
   "outputs": [
    {
     "data": {
      "text/plain": [
       "[-220.5556964622189,\n",
       " -338.83093765360564,\n",
       " -396.62721619706343,\n",
       " -439.3089910481523,\n",
       " -460.8097979881125,\n",
       " -480.985053450061,\n",
       " -497.64645721787025,\n",
       " -501.8709204137943,\n",
       " -505.46772669938116,\n",
       " -509.0602038090384]"
      ]
     },
     "execution_count": 1045,
     "metadata": {},
     "output_type": "execute_result"
    }
   ],
   "source": [
    "sdp_costs"
   ]
  },
  {
   "cell_type": "code",
   "execution_count": 1046,
   "metadata": {},
   "outputs": [
    {
     "data": {
      "text/plain": [
       "[-220.55560085074023,\n",
       " -338.83090002869096,\n",
       " -396.6272133704829,\n",
       " -439.30891479174625,\n",
       " -460.8097798033481,\n",
       " -480.9850181189658,\n",
       " -497.6464487659836,\n",
       " -501.8709052652373,\n",
       " -505.4680249315578,\n",
       " -509.06018503013263]"
      ]
     },
     "execution_count": 1046,
     "metadata": {},
     "output_type": "execute_result"
    }
   ],
   "source": [
    "dual_costs"
   ]
  },
  {
   "cell_type": "code",
   "execution_count": 1047,
   "metadata": {},
   "outputs": [
    {
     "data": {
      "text/plain": [
       "[-133.5517058565237,\n",
       " -331.64735657508606,\n",
       " -395.44380583957184,\n",
       " -439.3089467409672,\n",
       " -453.93526688787097,\n",
       " -480.7391483006716,\n",
       " -497.64647182965166,\n",
       " -501.8709171915137,\n",
       " -505.3385249206445,\n",
       " -509.0601999589489]"
      ]
     },
     "execution_count": 1047,
     "metadata": {},
     "output_type": "execute_result"
    }
   ],
   "source": [
    "l0_costs"
   ]
  },
  {
   "cell_type": "code",
   "execution_count": null,
   "metadata": {},
   "outputs": [],
   "source": []
  }
 ],
 "metadata": {
  "kernelspec": {
   "display_name": "Python 3",
   "language": "python",
   "name": "python3"
  },
  "language_info": {
   "codemirror_mode": {
    "name": "ipython",
    "version": 3
   },
   "file_extension": ".py",
   "mimetype": "text/x-python",
   "name": "python",
   "nbconvert_exporter": "python",
   "pygments_lexer": "ipython3",
   "version": "3.6.10"
  }
 },
 "nbformat": 4,
 "nbformat_minor": 4
}
