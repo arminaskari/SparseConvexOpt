{
 "cells": [
  {
   "cell_type": "code",
   "execution_count": 2,
   "metadata": {},
   "outputs": [],
   "source": [
    "from SparseOpt.SparseModel import SparseModel\n",
    "import numpy as np"
   ]
  },
  {
   "cell_type": "markdown",
   "metadata": {},
   "source": [
    "# Generate Data"
   ]
  },
  {
   "cell_type": "code",
   "execution_count": 11,
   "metadata": {},
   "outputs": [],
   "source": [
    "n, m, r = 100, 20, 5\n",
    "sparsity_lvl = 0.3\n",
    "\n",
    "# generate random weight vector that has m * sparsity number of non-zero entries\n",
    "beta_true = 5 * np.random.randn(m)\n",
    "idx = np.random.choice(m, int(m * sparsity_lvl), replace=False)\n",
    "u = np.zeros(m)\n",
    "u[idx] = 1\n",
    "beta_true = beta_true * u\n",
    "\n",
    "# generate X and y for linear regression\n",
    "X = np.random.randn(n, m)\n",
    "y = X @ beta_true + np.random.randn(n)"
   ]
  },
  {
   "cell_type": "markdown",
   "metadata": {},
   "source": [
    "# Train Sparse Model"
   ]
  },
  {
   "cell_type": "code",
   "execution_count": 14,
   "metadata": {},
   "outputs": [],
   "source": [
    "# solve the problem  \n",
    "#   \n",
    "#   min_w ||Xw - y||_2^2 + gamma ||w||_2^2   \n",
    "#         \n",
    "#       s.t. ||w||_0 <= lambda\n",
    "#\n",
    "#\n",
    "# The procedure outlined in the paper is guaranteed to produce a solution that satisfies the \n",
    "# theoretical bounds with at most lmbda + r + 2 non-zero entries.\n",
    "#\n",
    "clf = SparseModel(loss='l2', l0reg='constr', l2reg='pen', lmbda=3, gamma=0.1)\n",
    "clf.fit(X, y, rank=r)"
   ]
  },
  {
   "cell_type": "code",
   "execution_count": 15,
   "metadata": {},
   "outputs": [
    {
     "data": {
      "text/plain": [
       "array([-1.21356313, -5.11789172,  0.        ,  0.        , -8.20607724,\n",
       "        0.        ,  3.17956069,  0.        ,  0.        ,  0.        ,\n",
       "        6.99084787,  0.        ,  0.        ,  0.        ,  0.        ,\n",
       "        0.        ,  0.        ,  0.        ,  0.        ,  0.        ])"
      ]
     },
     "execution_count": 15,
     "metadata": {},
     "output_type": "execute_result"
    }
   ],
   "source": [
    "clf.coef_"
   ]
  }
 ],
 "metadata": {
  "kernelspec": {
   "display_name": "Python 3",
   "language": "python",
   "name": "python3"
  },
  "language_info": {
   "codemirror_mode": {
    "name": "ipython",
    "version": 3
   },
   "file_extension": ".py",
   "mimetype": "text/x-python",
   "name": "python",
   "nbconvert_exporter": "python",
   "pygments_lexer": "ipython3",
   "version": "3.6.10"
  }
 },
 "nbformat": 4,
 "nbformat_minor": 4
}
